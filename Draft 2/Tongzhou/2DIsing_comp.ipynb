{
 "cells": [
  {
   "cell_type": "code",
   "execution_count": 1,
   "id": "47248398-ccbc-4643-8ea6-f8c566e05b9a",
   "metadata": {},
   "outputs": [],
   "source": [
    "import numpy as np\n",
    "import matplotlib.pyplot as plt"
   ]
  },
  {
   "cell_type": "code",
   "execution_count": 2,
   "id": "160d100b-a87c-4dcf-9ca4-25be72a56001",
   "metadata": {},
   "outputs": [],
   "source": [
    "def energy(S, H_p=0):\n",
    "    \"\"\"Compute the total energy (divided by J) for a given configuration of the 2D Ising model.\"\"\"\n",
    "    \n",
    "    S_down = np.concatenate([S[1:, :], S[0, :][np.newaxis, :]])\n",
    "    S_right = np.concatenate([S[:, 1:], S[:, 0][:, np.newaxis]], axis=1)\n",
    "    \n",
    "    return -(np.sum(S * S_down) + np.sum(S * S_right)) - H_p * np.sum(S)"
   ]
  },
  {
   "cell_type": "code",
   "execution_count": 3,
   "id": "7838ab11-4fb6-40af-94a0-e7aa74f7394e",
   "metadata": {},
   "outputs": [],
   "source": [
    "def flip(s):\n",
    "    \"\"\"Flip a spin.\"\"\"\n",
    "    if s == 1:\n",
    "        return -1\n",
    "    elif s == -1:\n",
    "        return 1"
   ]
  },
  {
   "cell_type": "code",
   "execution_count": 4,
   "id": "1a63ab78-37b4-447b-a86b-0627b3819fd9",
   "metadata": {},
   "outputs": [],
   "source": [
    "def energy_chg(S, i, j, H_p=0):\n",
    "    \"\"\"Compute the change of energy (divided by J) due to a spin flip at (i, j).\"\"\"\n",
    "    \n",
    "    N = S.shape[0]\n",
    "    newspin = flip(S[i, j])\n",
    "    \n",
    "    chg = 0\n",
    "    if i == 0:\n",
    "        chg += (- newspin * S[-1, j]) - (- S[i, j] * S[-1, j])\n",
    "    else:\n",
    "        chg += (- newspin * S[i-1, j]) - (- S[i, j] * S[i-1, j])\n",
    "    if i == N-1:\n",
    "        chg += (- newspin * S[0, j]) - (- S[i, j] * S[0, j])\n",
    "    else:\n",
    "        chg += (- newspin * S[i+1, j]) - (- S[i, j] * S[i+1, j])\n",
    "    if j == 0:\n",
    "        chg += (- newspin * S[i, -1]) - (- S[i, j] * S[i, -1])\n",
    "    else:\n",
    "        chg += (- newspin * S[i, j-1]) - (- S[i, j] * S[i, j-1])\n",
    "    if j == N-1:\n",
    "        chg += (- newspin * S[i, 0]) - (- S[i, j] * S[i, 0])\n",
    "    else:\n",
    "        chg += (- newspin * S[i, j+1]) - (- S[i, j] * S[i, j+1])\n",
    "    \n",
    "    chg += (- H_p * newspin) - (- H_p * S[i, j])\n",
    "    \n",
    "    return chg"
   ]
  },
  {
   "cell_type": "code",
   "execution_count": 5,
   "id": "e609969e-a515-4354-b6b2-f74818702e7d",
   "metadata": {
    "tags": []
   },
   "outputs": [],
   "source": [
    "def Solve2DIsing(S, T_p, steps, H_p=0):\n",
    "    \"\"\"\n",
    "    Compute the energy (divided by J), magnetization, and configuration of the 2D Ising model \n",
    "    at a given temperature (times the Bolzmann constant divided by J).\n",
    "    \"\"\"\n",
    "    E_p = energy(S, H_p)\n",
    "    M = np.sum(S)\n",
    "    E_p_set = []\n",
    "    M_set = []\n",
    "    E_p_set.append(E_p)\n",
    "    M_set.append(M)\n",
    "    \n",
    "    N = S.shape[0]\n",
    "    \n",
    "    rng = np.random.default_rng(12345)\n",
    "    \n",
    "    for k in range(steps):\n",
    "        i = rng.integers(N)\n",
    "        j = rng.integers(N)\n",
    "        \n",
    "        dE_p = energy_chg(S, i, j, H_p)\n",
    "        \n",
    "        if T_p == 0:\n",
    "            if dE_p <= 0:\n",
    "                E_p += dE_p\n",
    "                M += (flip(S[i, j]) - S[i, j])\n",
    "                S[i, j] = flip(S[i, j])\n",
    "        else:\n",
    "            if rng.random() < np.exp(- dE_p / T_p):\n",
    "                E_p += dE_p\n",
    "                M += (flip(S[i, j]) - S[i, j])\n",
    "                S[i, j] = flip(S[i, j])\n",
    "                \n",
    "        E_p_set.append(E_p)\n",
    "        M_set.append(M)\n",
    "    \n",
    "    E_p_set = np.array(E_p_set)\n",
    "    M_set = np.array(M_set)\n",
    "    \n",
    "    # for testing\n",
    "#     fig, ax = plt.subplots()\n",
    "#     ax.plot(E_p_set)\n",
    "#     ax.set_xlabel('steps')\n",
    "#     ax.set_ylabel(r'$E^{\\prime} = \\frac{E}{J}$')\n",
    "#     ax.set_title(f'N{N}_T_p{T_p}_H_p{H_p}')\n",
    "#     plt.show()\n",
    "    \n",
    "#     fig, ax = plt.subplots()\n",
    "#     ax.plot(M_set / S.size)\n",
    "#     ax.set_xlabel('steps')\n",
    "#     ax.set_ylabel(r'Normalized $M$')\n",
    "#     ax.set_title(f'N{N}_T_p{T_p}_H_p{H_p}')\n",
    "#     plt.show()\n",
    "\n",
    "    E_p_avg = np.average(E_p_set[int(steps/2):])\n",
    "    M_avg = np.average(M_set[int(steps/2):])\n",
    "    \n",
    "    return E_p_avg, M_avg, S"
   ]
  },
  {
   "cell_type": "code",
   "execution_count": 6,
   "id": "758dd8b2-d822-4309-bb07-a46afa1d5dce",
   "metadata": {},
   "outputs": [],
   "source": [
    "# number of spins on each row and column of the 2D array\n",
    "Ns = np.array([50])\n",
    "\n",
    "# temperature times the Bolzmann constant divided by J, T_p = k * T / J\n",
    "T_ps = np.arange(0, 5.05, 0.05)\n",
    "\n",
    "# number of steps taken in the Markov chain\n",
    "steps = 500000\n",
    "\n",
    "# an additional term to the energy divided by J due to an external magnetic field, H_p = H / J\n",
    "H_ps = np.array([0.])\n"
   ]
  },
  {
   "cell_type": "code",
   "execution_count": 7,
   "id": "54d7e447-45ae-408b-8114-7ae5c758bbb0",
   "metadata": {},
   "outputs": [],
   "source": [
    "for N in Ns:\n",
    "    for H_p in H_ps:\n",
    "        S = np.ones((N, N))\n",
    "        E_ps = []\n",
    "        Ms = []\n",
    "        for T_p in T_ps:\n",
    "            if 2.1 <= T_p <= 2.5:\n",
    "                E_p, M, S_new = Solve2DIsing(S, T_p, steps * 100, H_p)\n",
    "            elif 2.5 < T_p:\n",
    "                E_p, M, S_new = Solve2DIsing(S, T_p, steps * 20, H_p)\n",
    "            else:\n",
    "                E_p, M, S_new = Solve2DIsing(S, T_p, steps, H_p)\n",
    "            # E_p, M, S_new = Solve2DIsing(S, T_p, steps, H_p)\n",
    "            E_ps.append(E_p)\n",
    "            Ms.append(M)\n",
    "            S = S_new\n",
    "\n",
    "        E_ps = np.array(E_ps)\n",
    "        Ms = np.array(Ms)\n",
    "        M_norms = Ms / S.size\n",
    "        np.save(f'Data/E_ps_N{N}_H_p{H_p}.npy', E_ps)\n",
    "        np.save(f'Data/Ms_N{N}_H_p{H_p}.npy', Ms)\n",
    "        np.save(f'Data/M_norms_N{N}_H_p{H_p}.npy', M_norms)"
   ]
  },
  {
   "cell_type": "code",
   "execution_count": 8,
   "id": "d92f7653-ce8d-47ef-9a7d-f7c38bf9c2ca",
   "metadata": {},
   "outputs": [
    {
     "data": {
      "image/png": "[encoded data removed]",
      "text/plain": [
       "<Figure size 640x480 with 1 Axes>"
      ]
     },
     "metadata": {},
     "output_type": "display_data"
    },
    {
     "data": {
      "image/png": "[encoded data removed]",
      "text/plain": [
       "<Figure size 640x480 with 1 Axes>"
      ]
     },
     "metadata": {},
     "output_type": "display_data"
    }
   ],
   "source": [
    "fig, ax = plt.subplots()\n",
    "ax.scatter(T_ps, E_ps, marker='+')\n",
    "ax.set_xlabel(r'$T^{\\prime} = \\frac{kT}{J}$')\n",
    "ax.set_ylabel(r'$E^{\\prime} = \\frac{E}{J}$')\n",
    "fig.tight_layout()\n",
    "plt.savefig(f'Figs/E_ps_N{N}_H_p{H_p}.png', bbox_inches='tight')\n",
    "plt.show()\n",
    "\n",
    "fig, ax = plt.subplots()\n",
    "ax.scatter(T_ps, M_norms, marker='+')\n",
    "ax.set_xlabel(r'$T^{\\prime} = \\frac{kT}{J}$')\n",
    "ax.set_ylabel(r'Normalized $M$')\n",
    "fig.tight_layout()\n",
    "plt.savefig(f'Figs/M_norms_N{N}_H_p{H_p}.png', bbox_inches='tight')\n",
    "plt.show()"
   ]
  }
 ],
 "metadata": {
  "kernelspec": {
   "display_name": "Python 3 (Comp-Phys)",
   "language": "python",
   "name": "computational-phys"
  },
  "language_info": {
   "codemirror_mode": {
    "name": "ipython",
    "version": 3
   },
   "file_extension": ".py",
   "mimetype": "text/x-python",
   "name": "python",
   "nbconvert_exporter": "python",
   "pygments_lexer": "ipython3",
   "version": "3.8.19"
  }
 },
 "nbformat": 4,
 "nbformat_minor": 5
}
